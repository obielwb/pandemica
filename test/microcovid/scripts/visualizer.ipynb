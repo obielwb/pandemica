{
 "cells": [
  {
   "cell_type": "code",
   "execution_count": 20,
   "metadata": {},
   "outputs": [
    {
     "name": "stdout",
     "output_type": "stream",
     "text": [
      "<class 'pandas.core.frame.DataFrame'>\n",
      "RangeIndex: 289 entries, 0 to 288\n",
      "Data columns (total 12 columns):\n",
      " #   Column                           Non-Null Count  Dtype  \n",
      "---  ------                           --------------  -----  \n",
      " 0   epi_week                         289 non-null    int64  \n",
      " 1   date                             289 non-null    object \n",
      " 2   state                            289 non-null    object \n",
      " 3   city                             289 non-null    object \n",
      " 4   ibgeID                           289 non-null    int64  \n",
      " 5   newDeaths                        289 non-null    int64  \n",
      " 6   deaths                           289 non-null    int64  \n",
      " 7   newCases                         289 non-null    int64  \n",
      " 8   totalCases                       289 non-null    int64  \n",
      " 9   deaths_per_100k_inhabitants      289 non-null    float64\n",
      " 10  totalCases_per_100k_inhabitants  289 non-null    float64\n",
      " 11  deaths_by_totalCases             289 non-null    float64\n",
      "dtypes: float64(3), int64(6), object(3)\n",
      "memory usage: 27.2+ KB\n"
     ]
    }
   ],
   "source": [
    "import pandas as pd \n",
    "\n",
    "cases_dataframe_2020 = pd.read_csv(\"../data/campinas_2020_cases.csv\")\n",
    "cases_dataframe_2020.head()\n",
    "cases_dataframe_2020.info()\n"
   ]
  },
  {
   "cell_type": "code",
   "execution_count": 19,
   "metadata": {},
   "outputs": [
    {
     "data": {
      "text/plain": [
       "1918"
      ]
     },
     "execution_count": 19,
     "metadata": {},
     "output_type": "execute_result"
    }
   ],
   "source": [
    "cases_past_week = cases_dataframe_2020['newCases'].iloc[max(280 - 6, 0):280 + 1].sum()\n",
    "cases_past_week"
   ]
  },
  {
   "cell_type": "code",
   "execution_count": 22,
   "metadata": {},
   "outputs": [
    {
     "name": "stdout",
     "output_type": "stream",
     "text": [
      "420\n",
      "252\n"
     ]
    }
   ],
   "source": [
    "start_value = cases_dataframe_2020['newCases'].iloc[274]\n",
    "end_value = cases_dataframe_2020['newCases'].iloc[280]\n",
    "percentage_increase = ((end_value - start_value) / start_value) * 100\n",
    "print(start_value)\n",
    "print(end_value)"
   ]
  },
  {
   "cell_type": "code",
   "execution_count": null,
   "metadata": {},
   "outputs": [],
   "source": []
  }
 ],
 "metadata": {
  "kernelspec": {
   "display_name": "Python 3",
   "language": "python",
   "name": "python3"
  },
  "language_info": {
   "codemirror_mode": {
    "name": "ipython",
    "version": 3
   },
   "file_extension": ".py",
   "mimetype": "text/x-python",
   "name": "python",
   "nbconvert_exporter": "python",
   "pygments_lexer": "ipython3",
   "version": "3.9.6"
  },
  "orig_nbformat": 4
 },
 "nbformat": 4,
 "nbformat_minor": 2
}
